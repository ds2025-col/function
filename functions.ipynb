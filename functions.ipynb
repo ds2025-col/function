{
  "nbformat": 4,
  "nbformat_minor": 0,
  "metadata": {
    "colab": {
      "provenance": [],
      "authorship_tag": "ABX9TyMhtkzWi/JyBTkShtnuJYy/",
      "include_colab_link": true
    },
    "kernelspec": {
      "name": "python3",
      "display_name": "Python 3"
    },
    "language_info": {
      "name": "python"
    }
  },
  "cells": [
    {
      "cell_type": "markdown",
      "metadata": {
        "id": "view-in-github",
        "colab_type": "text"
      },
      "source": [
        "<a href=\"https://colab.research.google.com/github/ds2025-col/function/blob/main/functions.ipynb\" target=\"_parent\"><img src=\"https://colab.research.google.com/assets/colab-badge.svg\" alt=\"Open In Colab\"/></a>"
      ]
    },
    {
      "cell_type": "markdown",
      "source": [
        "**FUNCTIONS**\n",
        "\n",
        "A function is a block of code which only run when its called.\n",
        "\n",
        "you can pass data known as parameters into a function.\n",
        "\n",
        "a function can return data has a result.\n",
        "\n",
        "SYNTAX:-\n",
        "\n",
        "def function _name(argument):\n",
        "\n",
        "\n",
        "function statement(the task perfomed in function)\n",
        "\n",
        "return some value\n",
        "\n",
        "function _name(function call)"
      ],
      "metadata": {
        "id": "GYK-q4r_f1na"
      }
    },
    {
      "cell_type": "code",
      "source": [
        "def fun():\n",
        "  print('hello')\n",
        "fun()"
      ],
      "metadata": {
        "colab": {
          "base_uri": "https://localhost:8080/"
        },
        "id": "JmN_H48CgycS",
        "outputId": "4016a6f8-6c90-4379-dfa4-8044390abb6c"
      },
      "execution_count": 3,
      "outputs": [
        {
          "output_type": "stream",
          "name": "stdout",
          "text": [
            "hello\n"
          ]
        }
      ]
    },
    {
      "cell_type": "code",
      "source": [
        "#a function without argument and no return value\n",
        "def add():\n",
        "  n1=18\n",
        "  n2=2\n",
        "  sum=n1+n2\n",
        "  print(sum)\n",
        "add()"
      ],
      "metadata": {
        "colab": {
          "base_uri": "https://localhost:8080/"
        },
        "id": "H7zRxMLYh-8N",
        "outputId": "19332865-aa62-4161-aaff-b2f014131655"
      },
      "execution_count": 4,
      "outputs": [
        {
          "output_type": "stream",
          "name": "stdout",
          "text": [
            "20\n"
          ]
        }
      ]
    },
    {
      "cell_type": "code",
      "source": [
        "#function with argument nad no return value\n",
        "def add(n1,n2):\n",
        "  sum=n1+n2\n",
        "  print(sum)\n",
        "add(18,2)"
      ],
      "metadata": {
        "colab": {
          "base_uri": "https://localhost:8080/"
        },
        "id": "E8owPy3yikxM",
        "outputId": "3c642ab4-1076-45a2-c430-d1513f2162c3"
      },
      "execution_count": 6,
      "outputs": [
        {
          "output_type": "stream",
          "name": "stdout",
          "text": [
            "20\n"
          ]
        }
      ]
    },
    {
      "cell_type": "code",
      "source": [
        "def mul(n1,n2):\n",
        "  mul=n1*n2\n",
        "  print(mul)\n",
        "mul(10,2)\n",
        "mul(2,5)"
      ],
      "metadata": {
        "colab": {
          "base_uri": "https://localhost:8080/"
        },
        "id": "TraBLkQBjnav",
        "outputId": "c6d4108a-4726-423c-aff7-b82038858430"
      },
      "execution_count": 8,
      "outputs": [
        {
          "output_type": "stream",
          "name": "stdout",
          "text": [
            "20\n",
            "10\n"
          ]
        }
      ]
    },
    {
      "cell_type": "code",
      "source": [
        "def div(n,m):\n",
        "  div=n/m\n",
        "  print(div)\n",
        "div(10,2)"
      ],
      "metadata": {
        "colab": {
          "base_uri": "https://localhost:8080/"
        },
        "id": "wRpCVSYekLls",
        "outputId": "7371f00b-7a6e-45d9-8841-56dbe7584ba3"
      },
      "execution_count": 10,
      "outputs": [
        {
          "output_type": "stream",
          "name": "stdout",
          "text": [
            "5.0\n"
          ]
        }
      ]
    },
    {
      "cell_type": "code",
      "execution_count": 11,
      "metadata": {
        "colab": {
          "base_uri": "https://localhost:8080/"
        },
        "id": "z-xJ_WjgeRtd",
        "outputId": "477d7100-cf0b-4bdd-d672-cb5d5c051c33"
      },
      "outputs": [
        {
          "output_type": "stream",
          "name": "stdout",
          "text": [
            "enter  num1:12\n",
            "enter num2:3\n",
            "15\n"
          ]
        }
      ],
      "source": [
        "def fn():\n",
        "  x=int(input('enter  num1:'))\n",
        "  y=int(input('enter num2:'))\n",
        "  return(x+y)\n",
        "print(fn())"
      ]
    },
    {
      "cell_type": "code",
      "source": [
        "def sub(a,b=10):\n",
        "  if a>b:\n",
        "    sub=a-b\n",
        "  else:\n",
        "      sub=b-a\n",
        "      return(sub)\n",
        "print(sub(9))\n"
      ],
      "metadata": {
        "colab": {
          "base_uri": "https://localhost:8080/"
        },
        "id": "rKKf9iMQo9Xj",
        "outputId": "254d1f43-0104-46b5-e92b-f539aaf397d4"
      },
      "execution_count": 12,
      "outputs": [
        {
          "output_type": "stream",
          "name": "stdout",
          "text": [
            "1\n"
          ]
        }
      ]
    },
    {
      "cell_type": "code",
      "source": [
        "def add(a,b=10,c=3):\n",
        " add=a+b+c\n",
        " return(add)\n",
        "print(add(10))\n",
        "print(add(4,2,5))\n"
      ],
      "metadata": {
        "colab": {
          "base_uri": "https://localhost:8080/"
        },
        "id": "JqpfRREbp9-l",
        "outputId": "fe550514-11bf-48d6-85f8-a661e5ceeb0f"
      },
      "execution_count": 17,
      "outputs": [
        {
          "output_type": "stream",
          "name": "stdout",
          "text": [
            "23\n",
            "11\n"
          ]
        }
      ]
    },
    {
      "cell_type": "code",
      "source": [
        "def fun(string):\n",
        "  vowels='aeiouAEIOU'\n",
        "  for i in string:\n",
        "    if i in vowels:\n",
        "      string=string.replace(i,'')\n",
        "  return(string)\n",
        "print(fun('orange'))\n"
      ],
      "metadata": {
        "colab": {
          "base_uri": "https://localhost:8080/"
        },
        "id": "PX1JqXK6tLjA",
        "outputId": "8cda7442-ee2c-493d-d755-5da3337214e5"
      },
      "execution_count": 19,
      "outputs": [
        {
          "output_type": "stream",
          "name": "stdout",
          "text": [
            "rng\n"
          ]
        }
      ]
    },
    {
      "cell_type": "code",
      "source": [
        "def fact(num):\n",
        "  fact=1\n",
        "  if num<0:\n",
        "    print('factorial does not exist for -ve num')\n",
        "  elif num==0:\n",
        "      print('factorial of 0 is 1')\n",
        "  else:\n",
        "        for i in range(1,num+1):\n",
        "          fact=fact*i\n",
        "  return(fact)\n",
        "print(fact(3))"
      ],
      "metadata": {
        "colab": {
          "base_uri": "https://localhost:8080/"
        },
        "id": "o44dGLMQwnqc",
        "outputId": "cc71b48a-2522-4c78-e69c-5414239b9190"
      },
      "execution_count": 21,
      "outputs": [
        {
          "output_type": "stream",
          "name": "stdout",
          "text": [
            "6\n"
          ]
        }
      ]
    }
  ]
}